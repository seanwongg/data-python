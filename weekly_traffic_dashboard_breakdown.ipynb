{
 "cells": [
  {
   "cell_type": "code",
   "execution_count": null,
   "id": "7566c995-5a06-4324-9067-6cd3c37bbc82",
   "metadata": {
    "tags": []
   },
   "outputs": [],
   "source": [
    "import pandas as pd\n",
    "import datetime as dt\n",
    "import psycopg2 as pg\n",
    "import pandas.io.sql as psql\n",
    "import warnings\n",
    "warnings.filterwarnings('ignore')"
   ]
  },
  {
   "cell_type": "code",
   "execution_count": null,
   "id": "0ff24bf7-dd66-4189-8240-4ee150586de1",
   "metadata": {
    "tags": []
   },
   "outputs": [],
   "source": [
    "DbInternal = pg.connect(DbInternal)\n",
    "DbMain = pg.connect(DbMain)\n",
    "\n",
    "start_date = \"2024-02-04\" #exclusive"
   ]
  },
  {
   "cell_type": "code",
   "execution_count": null,
   "id": "ef854c7a-5e8c-40ea-859d-f0d82b93c39a",
   "metadata": {
    "tags": []
   },
   "outputs": [],
   "source": [
    "traffic = psql.read_sql('''SELECT * FROM db_gsc_search_data WHERE grass_date > '%s'\n",
    "''' % (start_date), DbInternal)\n",
    "\n",
    "main_web_from_blog = psql.read_sql('''SELECT to_char(grass_date + interval '8 hours', 'DD/MM/YYYY') as grass_date, main_web_from_blog as clicks FROM db_gsc_search_overall_data WHERE date(grass_date + interval '8 hours') > date('%s')\n",
    "''' % (start_date), DbInternal)"
   ]
  },
  {
   "cell_type": "code",
   "execution_count": null,
   "id": "d9ed3a0d-d4b9-4b1f-b439-105b370c7ca3",
   "metadata": {
    "tags": []
   },
   "outputs": [],
   "source": [
    "main_web_from_blog = psql.read_sql('''SELECT to_char(grass_date + interval '8 hours', 'DD/MM/YYYY') as grass_date, main_web_from_blog as clicks FROM db_gsc_search_overall_data WHERE date(grass_date + interval '8 hours') > date('%s')\n",
    "''' % (start_date), DbInternal)"
   ]
  },
  {
   "cell_type": "code",
   "execution_count": null,
   "id": "590aef73-be5d-4d86-8ada-37a9cca74fc9",
   "metadata": {
    "tags": []
   },
   "outputs": [],
   "source": [
    "main_web_from_blog['grass_date'] = pd.to_datetime(main_web_from_blog['grass_date'],errors='coerce', format ='%d/%m/%Y')\n",
    "main_web_from_blog = main_web_from_blog.dropna().sort_values(by='grass_date')\n",
    "main_web_from_blog = main_web_from_blog[main_web_from_blog['grass_date'] > start_date]\n",
    "\n",
    "main_web_from_blog['category'] = \"Main Traffic from Blog\"\n",
    "main_web_from_blog['week'] = main_web_from_blog['grass_date'].dt.to_period('W')\n",
    "main_web_from_blog_group = main_web_from_blog.groupby(['category', 'week'])['clicks'].sum().reset_index()\n",
    "main_web_from_blog_group_pivot = main_web_from_blog_group.pivot_table(values = 'clicks', index = 'category', columns = 'week')"
   ]
  },
  {
   "cell_type": "code",
   "execution_count": null,
   "id": "99f10893-16f9-4449-b274-1261e45cd6ee",
   "metadata": {
    "tags": []
   },
   "outputs": [],
   "source": [
    "def categorize(row):\n",
    "    landing_page = row['landing_page']\n",
    "    product_name = row['product_name']\n",
    "\n",
    "    if \"novelship.com\" in landing_page or \"login\" in landing_page or \"mobile-app\" in landing_page or \"signup\" in landing_page:\n",
    "        return \"Homepage\"\n",
    "    elif \"careers\" in landing_page:\n",
    "        return \"Careers\"\n",
    "    elif \"lookbook\" in landing_page:\n",
    "        return \"Lookbook\"\n",
    "    elif \"news/\" in landing_page or \"news-tw/\" in landing_page:\n",
    "        return \"SEO article\"\n",
    "    elif any(keyword in landing_page for keyword in [\"privacy\", \"info\", \"instruction\", \"support\", \"authentication\", \"about\", \"article\", \"authenticateforme\"]):\n",
    "        return \"Support\"\n",
    "    elif landing_page == \"sell\" or landing_page == \"terms\" or landing_page == \"tokutei\" or landing_page == \"tw-branches\":\n",
    "        return \"Support\"\n",
    "    elif \"?country=\" in landing_page and \"?size=\" in landing_page:\n",
    "        return \"GMC\"\n",
    "    elif \"?country=\" in landing_page:\n",
    "        return \"Product\"\n",
    "    elif any(keyword in landing_page for keyword in [\"sneakers\", \"apparel\", \"collectibles\", \"trading-cards\", \"size-wishlist\"]):\n",
    "        return \"Product\"\n",
    "    else:\n",
    "        return \"Product\"\n",
    "\n",
    "traffic['category'] = traffic.apply(categorize, axis=1)"
   ]
  },
  {
   "cell_type": "code",
   "execution_count": null,
   "id": "e833ab60-01dc-4fca-9a82-950430907559",
   "metadata": {
    "tags": []
   },
   "outputs": [],
   "source": [
    "traffic['grass_date'] = pd.to_datetime(traffic['grass_date'],errors='coerce', infer_datetime_format=True)"
   ]
  },
  {
   "cell_type": "code",
   "execution_count": null,
   "id": "debc1554-724a-4692-b9b1-3565baa91f5f",
   "metadata": {
    "tags": []
   },
   "outputs": [],
   "source": [
    "traffic['week'] = traffic['grass_date'].dt.to_period('W')\n",
    "traffic_group = traffic.groupby(['category','week'])['clicks'].sum().reset_index()\n",
    "traffic_group = traffic_group.groupby(['week']).apply(lambda x: x.sort_values(by='clicks', ascending=False)).reset_index(drop=True)\n",
    "pivot_traffic = traffic_group.pivot_table(values='clicks', index='category', columns='week')\n",
    "pivot_traffic = pivot_traffic.fillna(0)"
   ]
  },
  {
   "cell_type": "code",
   "execution_count": null,
   "id": "cb9e6d7b-1a9a-4c90-a84e-ca12f37e0d19",
   "metadata": {
    "tags": []
   },
   "outputs": [],
   "source": [
    "import zipfile\n",
    "import pandas as pd\n",
    "\n",
    "# https://search.google.com/u/0/search-console/performance/search-analytics?resource_id=???\n",
    "zip_file_path = \"Directory.zip\"\n",
    "csv_file_name = \"Dates.csv\" #in zip folder\n",
    "\n",
    "with zipfile.ZipFile(zip_file_path, 'r') as zip_ref:\n",
    "    zip_ref.extract(csv_file_name, \"C:/Directory\")\n",
    "\n",
    "csv_file_path = \"C:/Directory\" + csv_file_name\n",
    "discover = pd.read_csv(csv_file_path)"
   ]
  },
  {
   "cell_type": "code",
   "execution_count": null,
   "id": "c12b4f2a-b4dc-4b11-a3be-9092b5105876",
   "metadata": {
    "tags": []
   },
   "outputs": [],
   "source": [
    "discover['Date'] = pd.to_datetime(discover['Date'], errors = 'coerce', infer_datetime_format=True)\n",
    "discover = discover[discover['Date'] > start_date]\n",
    "discover['week'] = discover['Date'].dt.to_period('W')\n",
    "discover['category'] = \"Discover\"\n",
    "discover_group = discover.groupby(['category','week'])['Clicks'].sum().reset_index()\n",
    "discover_group = discover_group.groupby(['week']).apply(lambda x: x.sort_values(by='Clicks', ascending=False)).reset_index(drop=True)\n",
    "discover_traffic = discover_group.pivot_table(values='Clicks', index='category', columns='week')"
   ]
  },
  {
   "cell_type": "code",
   "execution_count": null,
   "id": "8683f6c5-576f-4828-973d-9356bdb8ee2c",
   "metadata": {
    "tags": []
   },
   "outputs": [],
   "source": [
    "#https://merchants.google.com/mc/reporting/editor?a=144698196&reportId=6181392765&authuser=0\n",
    "gmc_free_listings = pd.read_csv(\"C:/GMC_Clicks.csv\")\n",
    "gmc_paid = gmc_free_listings[gmc_free_listings['Program'] != \"Free listings\"]\n",
    "gmc_free_listings = gmc_free_listings[gmc_free_listings['Program'] == \"Free listings\"]\n"
   ]
  },
  {
   "cell_type": "code",
   "execution_count": null,
   "id": "9850e0d4-2ca8-4f6b-81c3-b245acbe976b",
   "metadata": {
    "tags": []
   },
   "outputs": [],
   "source": [
    "gmc_free_listings['Date'] = pd.to_datetime(gmc_free_listings['Day'], errors = 'coerce', infer_datetime_format=True)\n",
    "gmc_free_listings = gmc_free_listings[gmc_free_listings['Date'] > start_date]\n",
    "gmc_free_listings['category'] = \"GMC\"\n",
    "gmc_free_listings['week'] = gmc_free_listings['Date'].dt.to_period('W')\n",
    "gmc_group = gmc_free_listings.groupby(['category', 'week'])['Clicks'].sum().reset_index()\n",
    "gmc_group_pivot = gmc_group.pivot_table(values = 'Clicks', index = 'category', columns = 'week')"
   ]
  },
  {
   "cell_type": "code",
   "execution_count": null,
   "id": "7271969f-ecfd-4870-ab50-7bcc547d3ac5",
   "metadata": {
    "tags": []
   },
   "outputs": [],
   "source": [
    "gmc_paid['Date'] = pd.to_datetime(gmc_paid['Day'], errors = 'coerce', infer_datetime_format=True)\n",
    "gmc_paid = gmc_paid[gmc_paid['Date'] > start_date]\n",
    "gmc_paid['category'] = \"GMC Paid Traffic\"\n",
    "gmc_paid['week'] = gmc_paid['Date'].dt.to_period('W')\n",
    "gmc_paid = gmc_paid.groupby(['category', 'week'])['Clicks'].sum().reset_index()\n",
    "gmc_paid_pivot = gmc_paid.pivot_table(values = 'Clicks', index = 'category', columns = 'week')"
   ]
  },
  {
   "cell_type": "code",
   "execution_count": null,
   "id": "152a1c1f-ed04-4fac-9e7b-8a74190be07b",
   "metadata": {
    "tags": []
   },
   "outputs": [],
   "source": [
    "export_df = pd.concat([pivot_traffic, discover_traffic, gmc_group_pivot, main_web_from_blog_group_pivot], axis = 0)\n",
    "custom_order = [ \"GMC\", \"Product\", \"Homepage\", \"Support\", \"Careers\", \"Lookbook\", \"SEO article\", \"Discover\", \"Main Traffic from Blog\"]\n",
    "export_df = export_df.reindex(custom_order)"
   ]
  },
  {
   "cell_type": "code",
   "execution_count": null,
   "id": "bea28a44-ff57-4258-8ab7-44db1282e44f",
   "metadata": {
    "tags": []
   },
   "outputs": [],
   "source": [
    "total_skus = psql.read_sql('''SELECT\n",
    "to_char(p.created_at + interval '8 hours', 'DD/MM/YYYY') as creation_date,\n",
    "count(p.id) as products\n",
    "FROM product p\n",
    "GROUP BY 1 \n",
    "''', DbMain)\n",
    "\n",
    "DbMain.close()\n",
    "DbInternal.close()"
   ]
  },
  {
   "cell_type": "code",
   "execution_count": null,
   "id": "511d9f18-787e-4b78-8dc3-7477622af3b9",
   "metadata": {
    "tags": []
   },
   "outputs": [],
   "source": [
    "total_skus['creation_date'] = pd.to_datetime(total_skus['creation_date'], format = '%d/%m/%Y')\n",
    "#total_skus_bef = total_skus[total_skus['creation_date'] <= start_date]\n",
    "total_skus_after = total_skus[total_skus['creation_date'] > start_date]\n",
    "#total_skus_bef['week'] = \"bef 2024-02-05\"\n",
    "#total_skus_bef = total_skus_bef.groupby('week')['products'].sum().reset_index()\n",
    "\n",
    "\n",
    "total_skus_after['week'] = total_skus_after['creation_date'].dt.to_period('W')\n",
    "total_skus_after = total_skus_after.groupby('week')['products'].sum().sort_index(ascending = False).reset_index()"
   ]
  },
  {
   "cell_type": "code",
   "execution_count": null,
   "id": "497d9c3e-e3a2-4ddb-99f2-1cb120f6f598",
   "metadata": {
    "tags": []
   },
   "outputs": [],
   "source": [
    "#total_skus_grouped = pd.concat([total_skus_after, total_skus_bef], axis = 0)\n",
    "total_skus_after['category'] = 'Total SPU'\n",
    "total_skus_after = total_skus_after.pivot_table(values = 'products', index = 'category', columns = 'week')"
   ]
  },
  {
   "cell_type": "code",
   "execution_count": null,
   "id": "baf66e4d-6d91-4dd8-9422-ff5a231ed245",
   "metadata": {
    "tags": []
   },
   "outputs": [],
   "source": [
    "total_skus[total_skus['creation_date'] <= start_date]['products'].sum()"
   ]
  },
  {
   "cell_type": "code",
   "execution_count": null,
   "id": "7ada1630-f77d-406f-ba8f-826823975496",
   "metadata": {
    "tags": []
   },
   "outputs": [],
   "source": [
    "import gspread\n",
    "import gspread_dataframe as gd\n",
    "\n",
    "gc1 = gspread.service_account('service_account.json')\n",
    "sh = gc1.open_by_url('https://docs.google.com/spreadsheets/d/1eP7Tb85W0w8vRssRn5z9L7l_gAAYBgmaUi0yT2F3cLY/edit?pli=1#gid=1643402199')\n",
    "sh1 = sh.worksheet(\"0. SEO (ref)\")"
   ]
  },
  {
   "cell_type": "code",
   "execution_count": null,
   "id": "b39c634a-5810-4241-9146-718c2b79fa08",
   "metadata": {
    "tags": []
   },
   "outputs": [],
   "source": [
    "export_df = export_df.fillna(0)\n",
    "# For main Organic\n",
    "export_values = [[index] + row.tolist() for index, row in export_df.iterrows()] #to include row name\n",
    "sh1.update('AB24', export_values)"
   ]
  },
  {
   "cell_type": "code",
   "execution_count": null,
   "id": "8bf4fc14-6e9a-4731-bd8c-a09186de6707",
   "metadata": {
    "tags": []
   },
   "outputs": [],
   "source": [
    "# For paid GMC\n",
    "export_values = [[index] + row.tolist() for index, row in gmc_paid_pivot.iterrows()] \n",
    "sh1.update('AB9', export_values)"
   ]
  },
  {
   "cell_type": "code",
   "execution_count": null,
   "id": "43535b6a-5e4c-4e64-8e7a-902166940110",
   "metadata": {
    "tags": []
   },
   "outputs": [],
   "source": [
    "# For Total SKUs listings on Novelship\n",
    "export_values = [[index] + row[1:].tolist() for index, row in total_skus_after.iterrows()] \n",
    "sh1.update('AB41', export_values)"
   ]
  }
 ],
 "metadata": {
  "kernelspec": {
   "display_name": "Python 3 (ipykernel)",
   "language": "python",
   "name": "python3"
  },
  "language_info": {
   "codemirror_mode": {
    "name": "ipython",
    "version": 3
   },
   "file_extension": ".py",
   "mimetype": "text/x-python",
   "name": "python",
   "nbconvert_exporter": "python",
   "pygments_lexer": "ipython3",
   "version": "3.11.4"
  }
 },
 "nbformat": 4,
 "nbformat_minor": 5
}
