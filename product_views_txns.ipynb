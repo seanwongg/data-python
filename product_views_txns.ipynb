{
 "cells": [
  {
   "cell_type": "code",
   "execution_count": null,
   "id": "895f7a7d-f038-4f77-9eb2-c8d450ae210e",
   "metadata": {
    "tags": []
   },
   "outputs": [],
   "source": [
    "import os\n",
    "import csv\n",
    "import pandas as pd\n",
    "import pandas.io.sql as psql\n",
    "import datetime as dt\n",
    "import numpy as np\n",
    "import warnings\n",
    "\n",
    "\n",
    "import gspread\n",
    "import gspread_dataframe as gd\n",
    "import psycopg2 as pg\n",
    "\n",
    "warnings.filterwarnings('ignore')\n",
    "\n",
    "DbInternal = pg.connect(DbInternal)\n",
    "DbMain = pg.connect(DbMain)"
   ]
  },
  {
   "cell_type": "code",
   "execution_count": null,
   "id": "e324dfa0-e496-433e-b5ab-886fcf23d205",
   "metadata": {
    "tags": []
   },
   "outputs": [],
   "source": [
    "# all countries\n",
    "# sel_countries = [\"Australia\", \"Singapore\",  \"Canada\", \"Malaysia\", \"Taiwan\",  \"Indonesia\", \"New Zealand\", \"Japan\", \"Hong Kong\", \"South Korea\", \"Philippines\", \"United Kingdom\", \"United States\", \"Vietnam\", \"Thailand\"]\n",
    "sel_countries = [\"Taiwan\"]\n",
    "def combine_str(items):\n",
    "    result = \"', '\".join(str(item) for item in items[:-1]) \n",
    "    return \"'\" + result + \"', '\" + str(items[-1]) + \"'\" \n",
    "\n",
    "sel_countries = \"(\" + combine_str(tuple(sel_countries)) + \")\""
   ]
  },
  {
   "cell_type": "code",
   "execution_count": null,
   "id": "6f5e03d7-9d9a-48ab-9977-e1f7801b5789",
   "metadata": {
    "tags": []
   },
   "outputs": [],
   "source": [
    "today_date = dt.date.today()\n",
    "today_date = dt.datetime.strftime(today_date, '%Y-%m-%d')"
   ]
  },
  {
   "cell_type": "code",
   "execution_count": null,
   "id": "b7fd321d-9df7-4bd7-989c-2c7613af9fe3",
   "metadata": {
    "tags": []
   },
   "outputs": [],
   "source": [
    "top_views = psql.read_sql('''WITH ranked_products AS (\n",
    "    SELECT\n",
    "        country,\n",
    "        product_id,\n",
    "        SUM(product_views_total) AS total_views,\n",
    "        SUM(product_clicks_total) AS total_clicks,\n",
    "        SUM(product_views_unique) AS total_views_unique,\n",
    "        SUM(product_clicks_unique) AS total_clicks_unique,\n",
    "        ROW_NUMBER() OVER(PARTITION BY country ORDER BY SUM(product_views_total) DESC) AS views_rank\n",
    "    FROM\n",
    "        db_product_views_ct\n",
    "    WHERE\n",
    "        month >= CURRENT_DATE - INTERVAL '90 days' AND\n",
    "        country in %s\n",
    "    GROUP BY\n",
    "        country,\n",
    "        product_id\n",
    "),\n",
    "product_names AS (\n",
    "    SELECT DISTINCT ON (product_id)\n",
    "        product_id,\n",
    "        name\n",
    "    FROM\n",
    "        db_product_views_ct\n",
    ")\n",
    "SELECT\n",
    "    rp.country,\n",
    "    pn.name AS product_name,\n",
    "    pn.product_id,\n",
    "    rp.total_views,\n",
    "    rp.total_clicks,\n",
    "    rp.total_views_unique,\n",
    "    rp.total_clicks_unique\n",
    "FROM\n",
    "    ranked_products rp\n",
    "LEFT JOIN\n",
    "    product_names pn ON rp.product_id = pn.product_id\n",
    "WHERE\n",
    "    rp.views_rank <= 10;''' % (sel_countries), DbInternal)"
   ]
  },
  {
   "cell_type": "code",
   "execution_count": null,
   "id": "1a1daa44-48c1-41a1-a7c1-ae03c7e6ec28",
   "metadata": {
    "tags": []
   },
   "outputs": [],
   "source": [
    "product_ids = tuple(top_views['product_id'].astype(str).unique())\n",
    "product_ids = \"(\" + combine_str(product_ids) + \")\""
   ]
  },
  {
   "cell_type": "code",
   "execution_count": null,
   "id": "bfa3323b-22f1-4aa8-abd5-37616150b72d",
   "metadata": {
    "tags": []
   },
   "outputs": [],
   "source": [
    "transactions = psql.read_sql('''\n",
    "    SELECT co.name as country, b.product_id, \n",
    "    COUNT(b.id) as transactions,\n",
    "    sum(COALESCE(list_price_local/seller_currency_rate,0)\n",
    "    + COALESCE(fee_delivery/buyer_currency_rate,0)\n",
    "    + COALESCE(fee_delivery_discount/buyer_currency_rate,0)\n",
    "    + COALESCE(fee_delivery_insurance/buyer_currency_rate,0)\n",
    "    + COALESCE(fee_delivery_instant/buyer_currency_rate,0)\n",
    "    + case when COALESCE(offer_price_local/buyer_currency_rate,0) > COALESCE(list_price_local/seller_currency_rate,0)\n",
    "        then COALESCE(offer_price_local/buyer_currency_rate,0) - COALESCE(list_price_local/seller_currency_rate,0)\n",
    "        else 0 end\n",
    "    + COALESCE(fee_add_on/buyer_currency_rate,0)\n",
    "    + COALESCE(fee_processing_buy/buyer_currency_rate,0) \n",
    "    - COALESCE(total_tax_reportable/buyer_currency_rate,0)) as gmv\n",
    "    FROM transaction_buyer b\n",
    "    left join transaction_seller s\n",
    "    on b.transaction_seller_id = s.id\n",
    "    left join country co on b.buyer_country_id = co.id\n",
    "    left join product p on b.product_id = p.id\n",
    "    where date(b.created_at + interval '8 hours' ) >= CURRENT_DATE - INTERVAL '90 days'\n",
    "    and b.\"type\" = 'transaction'\n",
    "    and b.status not in ('buy_failed', 'canceled','failed','payment_failed', 'sell_failed')\n",
    "    and ((COALESCE(b.nature,'default') in ('Pre Order')) and procure_status not in ('check_procurement_status','null',\n",
    "    'to_procure','bidding','to_complete_buy', 'contact_platform')\n",
    "    or COALESCE(b.nature,'default') not in  ('Pre Order'))\n",
    "    and b.payment_method!='credit'\n",
    "    and buyer_id not in (12409, 20095, 1804, 19022, 87853) \n",
    "    and b.ref not in ('BW7NDNRPDG','BJ76Z59YY7','BO7L8E06EM','BPGRZ0K2KM',\n",
    "    'BOM981DD67','BP716QPD5G','BPGRZ06P2M','BOM4VJEO2G','BZGE2NPP6M','BOM981D1X7','BE7DPNYYE7','BE7DPNYN17',\n",
    "    'BP716QP1ZG','BE7DPNY3E7','BJ76Z5J557','BEM8YOJJDM','BOM9810L27','BJ76Z501D7','BE7DPNE007','BDG36V0NQG',\n",
    "    'BKGO1NVRPG','BEMV90Y3DG','BQ7KZNV8Z7','BR7YE0YV3M','BEM8YO050M','BN7WP0Y23G','B472EX083M','B6M0W3PJ4M','BKGX8PZXV7')\n",
    "    and (seller_id not in (12409, 12698) or seller_id is null)\n",
    "    and b.product_id in %s\n",
    "    and co.name in %s\n",
    "    GROUP BY 1,2\n",
    "    ORDER BY 1,2\n",
    "    ''' % (product_ids, sel_countries), DbMain)\n",
    "transactions"
   ]
  },
  {
   "cell_type": "code",
   "execution_count": null,
   "id": "00e0f573-79b1-46f3-a9c4-fccf95c4b36d",
   "metadata": {
    "tags": []
   },
   "outputs": [],
   "source": [
    "top_views_purchase = pd.merge(top_views, transactions, on = ['country', 'product_id'], how = 'left')\n",
    "top_views_purchase = top_views_purchase.fillna(0)"
   ]
  },
  {
   "cell_type": "code",
   "execution_count": null,
   "id": "b7538c9b-9e22-41ec-bc65-489dd939a4b6",
   "metadata": {
    "tags": []
   },
   "outputs": [],
   "source": [
    "def sort_within_group(group):\n",
    "    return group.sort_values(by='total_views', ascending=False)\n",
    "\n",
    "top_views_purchase_sorted = top_views_purchase.groupby('country').apply(sort_within_group)\n",
    "top_views_purchase_sorted = top_views_purchase_sorted.reset_index(drop=True)"
   ]
  },
  {
   "cell_type": "code",
   "execution_count": null,
   "id": "4b7e4db3-3054-4475-8a70-4a83e45ac29c",
   "metadata": {
    "tags": []
   },
   "outputs": [],
   "source": [
    "top_views_purchase.groupby('product_name')['total_views'].sum().reset_index().sort_values('total_views', ascending = False).head(20)\n",
    "top_views_purchase.groupby('product_name')['transactions'].sum().reset_index().sort_values('transactions', ascending = False).head(15)"
   ]
  },
  {
   "cell_type": "code",
   "execution_count": null,
   "id": "80fc6198-16bb-4293-a512-4687a3fb3c42",
   "metadata": {
    "tags": []
   },
   "outputs": [],
   "source": [
    "first_buyer = psql.read_sql('''\n",
    "    with first_buy as (select\n",
    "    buyer_id ,min(b.created_at + interval '8 hours') as first_order_date,\n",
    "    min(b.id) as first_order_id\n",
    "    from transaction_buyer b\n",
    "    left join transaction_seller s\n",
    "    on b.transaction_seller_id = s.id\n",
    "    left join country co \n",
    "    on b.buyer_country_id = co.id\n",
    "    where\n",
    "    date(b.created_at + interval '8 hours' ) >= CURRENT_DATE - INTERVAL '90 days' and\n",
    "    b.\"type\" = 'transaction' and\n",
    "    b.status not in ('buy_failed', 'canceled', 'failed','payment_failed', 'sell_failed') and co.name in %s \n",
    "    and b.payment_method!='credit'\n",
    "    and buyer_id not in (12409, 20095, 1804, 19022, 87853) and b.ref not in ('BW7NDNRPDG','BJ76Z59YY7','BO7L8E06EM','BPGRZ0K2KM',\n",
    "    'BOM981DD67','BP716QPD5G','BPGRZ06P2M','BOM4VJEO2G','BZGE2NPP6M','BOM981D1X7','BE7DPNYYE7','BE7DPNYN17',\n",
    "    'BP716QP1ZG','BE7DPNY3E7','BJ76Z5J557','BEM8YOJJDM','BOM9810L27','BJ76Z501D7','BE7DPNE007','BDG36V0NQG',\n",
    "    'BKGO1NVRPG','BEMV90Y3DG','BQ7KZNV8Z7','BR7YE0YV3M','BEM8YO050M','BN7WP0Y23G','B472EX083M','B6M0W3PJ4M','BKGX8PZXV7')\n",
    "    and (seller_id not in (12409, 12698) or seller_id is null)\n",
    "    and ((COALESCE(b.nature,'default') in ('Pre Order')) and procure_status not in ('check_procurement_status','null',\n",
    "    'to_procure','bidding','to_complete_buy', 'contact_platform')\n",
    "    or COALESCE(b.nature,'default')  not in  ('Pre Order'))\n",
    "    group by 1\n",
    "    order by 1)\n",
    "\n",
    "    select p.name,\n",
    "    count(distinct f.buyer_id) as new_buyers\n",
    "    from first_buy f\n",
    "    left join transaction_buyer b\n",
    "    on b.id = f.first_order_id\n",
    "    left join transaction_seller s\n",
    "    on b.transaction_seller_id = s.id\n",
    "    left join product p \n",
    "    ON b.product_id = p.id\n",
    "    group by 1\n",
    "    order by 1 \n",
    "    ''' % (sel_countries), DbMain)"
   ]
  },
  {
   "cell_type": "code",
   "execution_count": null,
   "id": "5e46e01e-86d7-4bf8-8ce6-9d469a4468eb",
   "metadata": {
    "tags": []
   },
   "outputs": [],
   "source": [
    "first_buyer.sort_values('new_buyers', ascending = False).head(20)"
   ]
  },
  {
   "cell_type": "code",
   "execution_count": null,
   "id": "81c2c127-5a3f-4a5b-8fe0-04dc56a7829c",
   "metadata": {
    "tags": []
   },
   "outputs": [],
   "source": [
    "top_views_purchase_sorted.groupby('product_name')['transactions'].sum().reset_index().sort_values('transactions', ascending = False).head(15)"
   ]
  },
  {
   "cell_type": "code",
   "execution_count": null,
   "id": "763e1b8a-c1c1-4693-899f-9add9790b13e",
   "metadata": {
    "tags": []
   },
   "outputs": [],
   "source": [
    "country_views = top_views_purchase.groupby('country')['total_views'].sum()\n",
    "\n",
    "sorted_countries = country_views.sort_values(ascending=False).index\n",
    "\n",
    "top_views_purchase_sorted = top_views_purchase.set_index('country').loc[sorted_countries].reset_index()"
   ]
  },
  {
   "cell_type": "code",
   "execution_count": null,
   "id": "7b2d2228-172b-4658-8424-eee44daf6e59",
   "metadata": {
    "tags": []
   },
   "outputs": [],
   "source": [
    "gc1 = gspread.service_account('service_account.json')\n",
    "\n",
    "sh = gc1.open_by_url('https://docs.google.com/spreadsheets/d/1VrQBCT-DC06QGvrmNo9rpjHnvnxHVHVlaQ2rr2HIXTs/edit#gid=0')\n",
    "sh1 = sh.worksheet('Data')\n",
    "\n",
    "gd.set_with_dataframe(sh1, top_views_purchase_sorted)"
   ]
  },
  {
   "cell_type": "code",
   "execution_count": null,
   "id": "481c588b-c6ef-40ae-856c-bec4be786af4",
   "metadata": {},
   "outputs": [],
   "source": [
    "DbMain.close()"
   ]
  }
 ],
 "metadata": {
  "kernelspec": {
   "display_name": "Python 3 (ipykernel)",
   "language": "python",
   "name": "python3"
  },
  "language_info": {
   "codemirror_mode": {
    "name": "ipython",
    "version": 3
   },
   "file_extension": ".py",
   "mimetype": "text/x-python",
   "name": "python",
   "nbconvert_exporter": "python",
   "pygments_lexer": "ipython3",
   "version": "3.11.4"
  }
 },
 "nbformat": 4,
 "nbformat_minor": 5
}
